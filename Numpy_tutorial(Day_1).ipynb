{
  "nbformat": 4,
  "nbformat_minor": 0,
  "metadata": {
    "colab": {
      "name": "Numpy tutorial(Day 1).ipynb",
      "provenance": [],
      "authorship_tag": "ABX9TyP2o/YBEy8MP6kXIVps8iD2",
      "include_colab_link": true
    },
    "kernelspec": {
      "name": "python3",
      "display_name": "Python 3"
    },
    "language_info": {
      "name": "python"
    }
  },
  "cells": [
    {
      "cell_type": "markdown",
      "metadata": {
        "id": "view-in-github",
        "colab_type": "text"
      },
      "source": [
        "<a href=\"https://colab.research.google.com/github/blackxhrt2102/Data-Science-tutorial/blob/main/Numpy_tutorial(Day_1).ipynb\" target=\"_parent\"><img src=\"https://colab.research.google.com/assets/colab-badge.svg\" alt=\"Open In Colab\"/></a>"
      ]
    },
    {
      "cell_type": "markdown",
      "source": [
        "# Modular Programming\n",
        "\n",
        "**Modula programming refer to process of breaking a large programming task into separate smaller manageable subtask or modules.These individual modules can be cobbled together like building block to create a larger application.**\n",
        "\n",
        "**Application of modular programming:-**\n",
        "* 1.Simplicity.\n",
        "* 2.Maintainability ( Since code is broken into smaller pieces their maintainability is easy:-)\n",
        "* 3.Reusability\n",
        "\n",
        "**Module-**\n",
        "**A module can be accessed with import statement.**\n",
        "\n",
        "**Collection of many modules can be referr as a library.**"
      ],
      "metadata": {
        "id": "MP0tFW0naZdS"
      }
    },
    {
      "cell_type": "markdown",
      "source": [
        "# Numpy:-\n",
        "\n",
        "A numpy stands for numerical python.It is a library consist of multidimensional array objects and a collection of routines of preprocessing of array.It simplily used to manipulate and process vectors and matrices."
      ],
      "metadata": {
        "id": "HaYXuvqucbW2"
      }
    },
    {
      "cell_type": "code",
      "source": [
        "# Importing numpy module:-\n",
        "\n",
        "import numpy as np  "
      ],
      "metadata": {
        "id": "fc43ra6eactz"
      },
      "execution_count": 2,
      "outputs": []
    },
    {
      "cell_type": "markdown",
      "source": [
        "**The most important object defined in numpy is an N dimensional multidimension array type called as ndarray.**\n",
        "* It stores data of same type.\n",
        "* Each element takes same size of memory."
      ],
      "metadata": {
        "id": "q0POKVhzdRKm"
      }
    },
    {
      "cell_type": "code",
      "execution_count": 6,
      "metadata": {
        "colab": {
          "base_uri": "https://localhost:8080/"
        },
        "id": "NGR8l--gaWv8",
        "outputId": "8c209424-f8dd-43b4-e821-c44c3ba9f9c6"
      },
      "outputs": [
        {
          "output_type": "stream",
          "name": "stdout",
          "text": [
            "[1 2 3 4 5]\n"
          ]
        }
      ],
      "source": [
        "# Create 1 dimensional array:-\n",
        "df=np.array([1,2,3,4,5])\n",
        "print(df)"
      ]
    },
    {
      "cell_type": "code",
      "source": [
        "# Create 2 dimensional array:-\n",
        "df=np.array([[1,2,3,4,5],[6,7,8,9,10]],dtype='float')\n",
        "print(df)"
      ],
      "metadata": {
        "colab": {
          "base_uri": "https://localhost:8080/"
        },
        "id": "__fdvV6ReIVg",
        "outputId": "6d2a3b45-075d-46d5-e611-a3fb95839543"
      },
      "execution_count": 9,
      "outputs": [
        {
          "output_type": "stream",
          "name": "stdout",
          "text": [
            "[[ 1.  2.  3.  4.  5.]\n",
            " [ 6.  7.  8.  9. 10.]]\n"
          ]
        }
      ]
    },
    {
      "cell_type": "code",
      "source": [
        "# Create a 3 dimensional array:-\n",
        "df=np.array([[[1,2,3,4],[3,4,5,6]],[[2,3,4,5],[4,5,0,4]]],dtype='float')\n",
        "print(df)   # By counting the number of square brackets we can know the dimension;"
      ],
      "metadata": {
        "colab": {
          "base_uri": "https://localhost:8080/"
        },
        "id": "pYOMYdkceIS-",
        "outputId": "b45b87f8-dba3-40bb-a529-9cbb991c1946"
      },
      "execution_count": 12,
      "outputs": [
        {
          "output_type": "stream",
          "name": "stdout",
          "text": [
            "[[[1. 2. 3. 4.]\n",
            "  [3. 4. 5. 6.]]\n",
            "\n",
            " [[2. 3. 4. 5.]\n",
            "  [4. 5. 0. 4.]]]\n"
          ]
        }
      ]
    },
    {
      "cell_type": "code",
      "source": [
        "# Array Inspection:-\n",
        "\n",
        "print('Shape of 3d array:->',df.shape)  # It describe the shape of 3D ndarray.\n",
        "\n",
        "print('Dimension of array->',df.ndim)  # It describe the dimension of 3D array:-\n",
        "\n",
        "print('Total number of elements in array->',df.size)  # It describe the total number of elements:-"
      ],
      "metadata": {
        "colab": {
          "base_uri": "https://localhost:8080/"
        },
        "id": "RXv7LtayeIPb",
        "outputId": "eede64cf-7db2-4027-fe2b-1a6b9650af1d"
      },
      "execution_count": 19,
      "outputs": [
        {
          "output_type": "stream",
          "name": "stdout",
          "text": [
            "Shape of 3d array:- (2, 2, 4)\n",
            "Dimension of array- 3\n",
            "Total number of elements in array- 16\n"
          ]
        }
      ]
    },
    {
      "cell_type": "code",
      "source": [
        "# Initialization with zero:\n",
        "\n",
        "df=np.zeros((2,3))    # (2,3)- 2nd row with 3 columns:-\n",
        "print(df)             "
      ],
      "metadata": {
        "colab": {
          "base_uri": "https://localhost:8080/"
        },
        "id": "DEumfI4_eIMb",
        "outputId": "773c05f8-fc52-45d7-a74b-80b07748e1c9"
      },
      "execution_count": 23,
      "outputs": [
        {
          "output_type": "stream",
          "name": "stdout",
          "text": [
            "[[0. 0. 0.]\n",
            " [0. 0. 0.]]\n"
          ]
        }
      ]
    },
    {
      "cell_type": "code",
      "source": [
        "# Initialization with ones:-\n",
        "\n",
        "df=np.ones((4,3),dtype='float')  \n",
        "print(df)"
      ],
      "metadata": {
        "colab": {
          "base_uri": "https://localhost:8080/"
        },
        "id": "BHHmMRaSeIIt",
        "outputId": "d1772714-53f3-4c00-cb5d-d0816148da22"
      },
      "execution_count": 24,
      "outputs": [
        {
          "output_type": "stream",
          "name": "stdout",
          "text": [
            "[[1. 1. 1.]\n",
            " [1. 1. 1.]\n",
            " [1. 1. 1.]\n",
            " [1. 1. 1.]]\n"
          ]
        }
      ]
    },
    {
      "cell_type": "code",
      "source": [
        "# Generate a range of numbers:-\n",
        "df=np.arange(1,10)  # It starts with one enad at 9:\n",
        "print(df)\n",
        "\n",
        "df=np.arange(3,20,4)  # It starts with 3 and end at 19 with 4 number gap to skip.\n",
        "print(df)"
      ],
      "metadata": {
        "colab": {
          "base_uri": "https://localhost:8080/"
        },
        "id": "RD32yjqKeIGM",
        "outputId": "7aa61853-66b5-4ad0-b95f-e692ca32721f"
      },
      "execution_count": 28,
      "outputs": [
        {
          "output_type": "stream",
          "name": "stdout",
          "text": [
            "[1 2 3 4 5 6 7 8 9]\n",
            "[ 3  7 11 15 19]\n"
          ]
        }
      ]
    },
    {
      "cell_type": "code",
      "source": [
        "# Generate evenly spaced between two number\n",
        "\n",
        "df=np.linspace(10,20,3)  # It start with 10 and end with 19 and equally distributed between 3 number.\n",
        "print(df)\n",
        "\n",
        "df1=np.linspace(1,28,23)  # Start with 1 and end with 28  and equally distributed between 23 number.\n",
        "print(df1)"
      ],
      "metadata": {
        "colab": {
          "base_uri": "https://localhost:8080/"
        },
        "id": "bZDoK2iCiGJu",
        "outputId": "c8b0759e-262d-4921-fde9-6f60e289ec09"
      },
      "execution_count": 32,
      "outputs": [
        {
          "output_type": "stream",
          "name": "stdout",
          "text": [
            "[10. 15. 20.]\n",
            "[ 1.          2.22727273  3.45454545  4.68181818  5.90909091  7.13636364\n",
            "  8.36363636  9.59090909 10.81818182 12.04545455 13.27272727 14.5\n",
            " 15.72727273 16.95454545 18.18181818 19.40909091 20.63636364 21.86363636\n",
            " 23.09090909 24.31818182 25.54545455 26.77272727 28.        ]\n"
          ]
        }
      ]
    },
    {
      "cell_type": "code",
      "source": [
        "# To generate random integer \n",
        "df=np.random.random((3,4))  # Shape of 3 row and 4 columns\n",
        "print(df)"
      ],
      "metadata": {
        "colab": {
          "base_uri": "https://localhost:8080/"
        },
        "id": "kkXeoDrYiGHH",
        "outputId": "187c3067-9a1b-4ac1-a1be-efec22f5e430"
      },
      "execution_count": 35,
      "outputs": [
        {
          "output_type": "stream",
          "name": "stdout",
          "text": [
            "[[0.80273541 0.599382   0.81739529 0.09351453]\n",
            " [0.61805962 0.72650371 0.947734   0.21895721]\n",
            " [0.06298466 0.75261964 0.02308034 0.39462482]]\n"
          ]
        }
      ]
    },
    {
      "cell_type": "code",
      "source": [
        "# To generate random integer between two different integer\n",
        "df=np.random.randint(19,109,size=(3,3))  # Generate number between 19 and 109 of size (3,3).\n",
        "print(df)"
      ],
      "metadata": {
        "colab": {
          "base_uri": "https://localhost:8080/"
        },
        "id": "I6Digm6LiF9X",
        "outputId": "ebe0bdf3-6a92-4572-f0f2-757d451aea43"
      },
      "execution_count": 38,
      "outputs": [
        {
          "output_type": "stream",
          "name": "stdout",
          "text": [
            "[[54 28 31]\n",
            " [79 47 71]\n",
            " [60 82 49]]\n"
          ]
        }
      ]
    },
    {
      "cell_type": "code",
      "source": [
        "# Change list to ndarray or change tuple to ndarray.\n",
        "a=[1,2,3,4,5]\n",
        "print('List',a,type(a))\n",
        "\n",
        "a=np.asarray(a)\n",
        "print('Numpy array->',a,type(a))\n",
        "\n",
        "\n",
        "print('\\n\\n----------------------------------------------------------------------------------------------------------------------\\n\\n')\n",
        "\n",
        "b=(1,2,3,4,5)\n",
        "print('tuple',a,type(b))\n",
        "\n",
        "b=np.asarray(b)\n",
        "print('Numpy',b,type(b))\n",
        "\n"
      ],
      "metadata": {
        "colab": {
          "base_uri": "https://localhost:8080/"
        },
        "id": "BPz7zpVyiFv0",
        "outputId": "3dd9b6e7-b66a-4d81-b093-0d74dee1291f"
      },
      "execution_count": 54,
      "outputs": [
        {
          "output_type": "stream",
          "name": "stdout",
          "text": [
            "List [1, 2, 3, 4, 5] <class 'list'>\n",
            "Numpy array-> [1 2 3 4 5] <class 'numpy.ndarray'>\n",
            "\n",
            "\n",
            "----------------------------------------------------------------------------------------------------------------------\n",
            "\n",
            "\n",
            "tuple [1 2 3 4 5] <class 'tuple'>\n",
            "Numpy [1 2 3 4 5] <class 'numpy.ndarray'>\n"
          ]
        }
      ]
    },
    {
      "cell_type": "code",
      "source": [
        "# Transpose\n",
        "ab=np.array([[1,2,3,3],[2,3,4,5]])\n",
        "print('Array-',ab)\n",
        "\n",
        "print('Transpose of ab:-\\n',np.transpose(ab))"
      ],
      "metadata": {
        "colab": {
          "base_uri": "https://localhost:8080/"
        },
        "id": "vxoAo1AuuDR1",
        "outputId": "a7e20687-417b-4ab5-df26-bfee6882986f"
      },
      "execution_count": 61,
      "outputs": [
        {
          "output_type": "stream",
          "name": "stdout",
          "text": [
            "Array- [[1 2 3 3]\n",
            " [2 3 4 5]]\n",
            "Transpose of ab:-\n",
            " [[1 2]\n",
            " [2 3]\n",
            " [3 4]\n",
            " [3 5]]\n"
          ]
        }
      ]
    },
    {
      "cell_type": "code",
      "source": [
        "# Reshape\n",
        "ab=np.array([[1,2,3,3],[2,3,4,5]])\n",
        "print(ab)\n",
        "# Changing shape of ab to (4,2) --\n",
        "print(np.reshape(ab,(4,2)))"
      ],
      "metadata": {
        "colab": {
          "base_uri": "https://localhost:8080/"
        },
        "id": "BgRhBQjVuDVD",
        "outputId": "0737ede5-e1f9-4979-b23e-b6b160385705"
      },
      "execution_count": 66,
      "outputs": [
        {
          "output_type": "stream",
          "name": "stdout",
          "text": [
            "[[1 2 3 3]\n",
            " [2 3 4 5]]\n",
            "[[1 2]\n",
            " [3 3]\n",
            " [2 3]\n",
            " [4 5]]\n"
          ]
        }
      ]
    },
    {
      "cell_type": "code",
      "source": [
        "# Argmax ->Return max element of array:-\n",
        "a=np.array([[1,3,4],[5,3,2]])\n",
        "np.argmax(a,axis=1)  # If axis=1 then from each row it tell the position of maximum element."
      ],
      "metadata": {
        "colab": {
          "base_uri": "https://localhost:8080/"
        },
        "id": "jOmksgUXxlN6",
        "outputId": "f026874c-ffdc-4567-81aa-550c00b171ce"
      },
      "execution_count": 77,
      "outputs": [
        {
          "output_type": "execute_result",
          "data": {
            "text/plain": [
              "array([2, 0])"
            ]
          },
          "metadata": {},
          "execution_count": 77
        }
      ]
    },
    {
      "cell_type": "code",
      "source": [
        "# Amax\n",
        "np.amax(a,axis=1)  # It specifies the maximum element from each row."
      ],
      "metadata": {
        "colab": {
          "base_uri": "https://localhost:8080/"
        },
        "id": "7iDwp1SxxlK5",
        "outputId": "4a0a27bb-c835-4561-baad-e703235ffb81"
      },
      "execution_count": 79,
      "outputs": [
        {
          "output_type": "execute_result",
          "data": {
            "text/plain": [
              "array([4, 5])"
            ]
          },
          "metadata": {},
          "execution_count": 79
        }
      ]
    },
    {
      "cell_type": "code",
      "source": [
        "a=np.array([2.4,4.5766,4.5])\n",
        "print(a)\n",
        "\n",
        "#------------------- Flooring -------------\n",
        "print(np.floor(a))  # It floors the value."
      ],
      "metadata": {
        "colab": {
          "base_uri": "https://localhost:8080/"
        },
        "id": "IrQp0-daxlHG",
        "outputId": "0be5f040-9f1a-4fac-ada9-1172038fa560"
      },
      "execution_count": 82,
      "outputs": [
        {
          "output_type": "stream",
          "name": "stdout",
          "text": [
            "[2.4    4.5766 4.5   ]\n",
            "[2. 4. 4.]\n"
          ]
        }
      ]
    },
    {
      "cell_type": "code",
      "source": [
        "# To iterate from multiple dimensional array\n",
        "a=np.array([[1,2,3,4],[4,3,21,1]])\n",
        "for i in np.nditer(a):\n",
        "  print(i)"
      ],
      "metadata": {
        "colab": {
          "base_uri": "https://localhost:8080/"
        },
        "id": "Fltc6ZKExlE4",
        "outputId": "1759e135-c17f-4050-e53b-f8360c687427"
      },
      "execution_count": 83,
      "outputs": [
        {
          "output_type": "stream",
          "name": "stdout",
          "text": [
            "1\n",
            "2\n",
            "3\n",
            "4\n",
            "4\n",
            "3\n",
            "21\n",
            "1\n"
          ]
        }
      ]
    },
    {
      "cell_type": "markdown",
      "source": [
        "**Broadcasting**\n",
        "* Broadcasting allows binary operation to be perfomed on array size of different size i-e we can perform binary operation on two different size array."
      ],
      "metadata": {
        "id": "kBQRAHWev4Sz"
      }
    },
    {
      "cell_type": "code",
      "source": [
        "a=np.array([[1,2,3,4],[5,6,7,8]])\n",
        "print('a=>\\n',a)\n",
        "\n",
        "b=np.array([[1,2,3,4]])\n",
        "print('b=>\\n',b)\n",
        "\n",
        "print(a+b)"
      ],
      "metadata": {
        "colab": {
          "base_uri": "https://localhost:8080/"
        },
        "id": "txLcXACDuDYM",
        "outputId": "159b4d32-79be-43b8-f830-e4cd9b97e73a"
      },
      "execution_count": 74,
      "outputs": [
        {
          "output_type": "stream",
          "name": "stdout",
          "text": [
            "a=>\n",
            " [[1 2 3 4]\n",
            " [5 6 7 8]]\n",
            "b=>\n",
            " [[1 2 3 4]]\n",
            "[[ 2  4  6  8]\n",
            " [ 6  8 10 12]]\n"
          ]
        }
      ]
    },
    {
      "cell_type": "code",
      "source": [
        ""
      ],
      "metadata": {
        "id": "4rQG20z2uDa4"
      },
      "execution_count": null,
      "outputs": []
    },
    {
      "cell_type": "code",
      "source": [
        ""
      ],
      "metadata": {
        "id": "ISLYRuR0uDd6"
      },
      "execution_count": null,
      "outputs": []
    },
    {
      "cell_type": "code",
      "source": [
        ""
      ],
      "metadata": {
        "id": "zcJVBerxuDjE"
      },
      "execution_count": null,
      "outputs": []
    }
  ]
}